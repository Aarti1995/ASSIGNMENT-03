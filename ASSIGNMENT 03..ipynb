{
 "cells": [
  {
   "cell_type": "code",
   "execution_count": null,
   "metadata": {},
   "outputs": [],
   "source": [
    "1. Why are functions advantageous to have in your programs?\n",
    "Ans:Functions in Python help us by breaking our program into smaller and modular chunks. \n",
    "    This makes our programs more organized and manageable, as it grows with time. In addition, \n",
    "    Functions in Python also reduces the chances of code repetition and instead makes code reusable.\n",
    "    It helps to divide the large programs into small groups so that, we can understand the code, \n",
    "    and debug the program quicker and better. Python Functions prevents us from writing same logic multiple times. \n",
    "    We can wrap the logic in one function, and then call the same over and over.\n",
    "    "
   ]
  },
  {
   "cell_type": "code",
   "execution_count": null,
   "metadata": {},
   "outputs": [],
   "source": [
    "2. When does the code in a function run: when it's specified or when it's called?\n",
    "Ans:A function is a block of code that only runs when it is called    "
   ]
  },
  {
   "cell_type": "code",
   "execution_count": null,
   "metadata": {},
   "outputs": [],
   "source": [
    "3. What statement creates a function?\n",
    "Ans: syntax for create a statment def"
   ]
  },
  {
   "cell_type": "code",
   "execution_count": null,
   "metadata": {},
   "outputs": [],
   "source": [
    "4. What is the difference between a function and a function call?\n",
    "Ans:FUNCTION:\n",
    "        A function is a block of code that does a particular operation and returns a result. \n",
    "        It usually accepts inputs as parameters and returns a result. The parameters are not mandatory.\n",
    "     Function call:\n",
    "        A function call is the code used to pass control to a function.\n"
   ]
  },
  {
   "cell_type": "code",
   "execution_count": null,
   "metadata": {},
   "outputs": [],
   "source": [
    "5. How many global scopes are there in a Python program? How many local scopes?\n",
    "Ans:All Python variabes which are accessible at some point in code are either in local scope or in global scope.\n",
    "\n",
    "The explanation is that local scope includes all variables defined in the current function \n",
    "and global scope includes variabled defined outside of the current function."
   ]
  },
  {
   "cell_type": "code",
   "execution_count": null,
   "metadata": {},
   "outputs": [],
   "source": [
    "6. What happens to variables in a local scope when the function call returns?\n",
    "Ans:When the execution of the function terminates (returns), the local variables are destroyed. \n",
    "    Codelens helps you visualize this because the local variables disappear after the function return \n",
    "    & Go back and step through the statements paying particular attention to the variables that are created when the function is called."
   ]
  },
  {
   "cell_type": "code",
   "execution_count": null,
   "metadata": {},
   "outputs": [],
   "source": [
    "7. What is the concept of a return value? Is it possible to have a return value in an expression?\n",
    "Ans:A python function can return a specified value anywhere within that function by using a return statement, \n",
    "which ends the function under execution and then returns a value to the caller. "
   ]
  },
  {
   "cell_type": "code",
   "execution_count": null,
   "metadata": {},
   "outputs": [],
   "source": [
    "8. If a function does not have a return statement, what is the return value of a call to that function?\n",
    "Ans:If a function doesn't specify a return value, it returns None.\n",
    "    In an if/then conditional statement, None evaluates to False. So in theory you could check the return value of this function for success/failure.\n"
   ]
  },
  {
   "cell_type": "code",
   "execution_count": null,
   "metadata": {},
   "outputs": [],
   "source": [
    "9. How do you make a function variable refer to the global variable?\n",
    "Ans:If you want to refer to a global variable in a function, you can use the global keyword to declare which variables are global."
   ]
  },
  {
   "cell_type": "code",
   "execution_count": null,
   "metadata": {},
   "outputs": [],
   "source": [
    "10. What is the data type of None?\n",
    "None keyword is an object and is a data type of none type class.\n",
    "None datatype doesn’t contain any value.\n",
    "None keyword is used to define a null variable or object.\n",
    "None keyword is immutable."
   ]
  },
  {
   "cell_type": "code",
   "execution_count": 1,
   "metadata": {},
   "outputs": [],
   "source": [
    "13. What can you do to save a programme from crashing if it encounters an error?\n",
    "Ans:Its Depends on why it's crashing. The try,catch will allow you to end more gracefully,\n"
   ]
  },
  {
   "cell_type": "code",
   "execution_count": null,
   "metadata": {},
   "outputs": [],
   "source": []
  }
 ],
 "metadata": {
  "kernelspec": {
   "display_name": "Python 3",
   "language": "python",
   "name": "python3"
  },
  "language_info": {
   "codemirror_mode": {
    "name": "ipython",
    "version": 3
   },
   "file_extension": ".py",
   "mimetype": "text/x-python",
   "name": "python",
   "nbconvert_exporter": "python",
   "pygments_lexer": "ipython3",
   "version": "3.8.5"
  }
 },
 "nbformat": 4,
 "nbformat_minor": 4
}
